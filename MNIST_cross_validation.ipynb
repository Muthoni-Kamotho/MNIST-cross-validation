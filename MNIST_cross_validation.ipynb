{
  "nbformat": 4,
  "nbformat_minor": 0,
  "metadata": {
    "colab": {
      "provenance": [],
      "mount_file_id": "1os2w0lQLdJLztC6HCZzt9qT_ZoL5l-uq",
      "authorship_tag": "ABX9TyPLMI9deygvkt544HUPAeSF",
      "include_colab_link": true
    },
    "kernelspec": {
      "name": "python3",
      "display_name": "Python 3"
    },
    "language_info": {
      "name": "python"
    }
  },
  "cells": [
    {
      "cell_type": "markdown",
      "metadata": {
        "id": "view-in-github",
        "colab_type": "text"
      },
      "source": [
        "<a href=\"https://colab.research.google.com/github/Muthoni-Kamotho/MNIST-cross-validation/blob/main/MNIST_cross_validation.ipynb\" target=\"_parent\"><img src=\"https://colab.research.google.com/assets/colab-badge.svg\" alt=\"Open In Colab\"/></a>"
      ]
    },
    {
      "cell_type": "code",
      "execution_count": 1,
      "metadata": {
        "id": "pJ25fyxHOjJK"
      },
      "outputs": [],
      "source": [
        "import pandas as pd\n",
        "from sklearn.neighbors import KNeighborsClassifier\n",
        "import matplotlib.pyplot as plt\n",
        "from sklearn.model_selection import train_test_split\n",
        "from sklearn.model_selection import KFold\n",
        "from sklearn.tree import DecisionTreeClassifier\n",
        "from sklearn.model_selection import cross_val_score\n",
        "from sklearn.metrics import accuracy_score\n",
        "from sklearn.datasets import fetch_openml"
      ]
    },
    {
      "cell_type": "code",
      "source": [
        "mnist = fetch_openml('mnist_784', version=1, return_X_y=True)\n",
        "X, y = mnist"
      ],
      "metadata": {
        "colab": {
          "base_uri": "https://localhost:8080/"
        },
        "id": "J7mt7QwGPeAC",
        "outputId": "53aa4ffc-4f0d-4f88-ba26-a3671a583f7c"
      },
      "execution_count": 2,
      "outputs": [
        {
          "output_type": "stream",
          "name": "stderr",
          "text": [
            "/usr/local/lib/python3.10/dist-packages/sklearn/datasets/_openml.py:968: FutureWarning: The default value of `parser` will change from `'liac-arff'` to `'auto'` in 1.4. You can set `parser='auto'` to silence this warning. Therefore, an `ImportError` will be raised from 1.4 if the dataset is dense and pandas is not installed. Note that the pandas parser may return different data types. See the Notes Section in fetch_openml's API doc for details.\n",
            "  warn(\n"
          ]
        }
      ]
    },
    {
      "cell_type": "code",
      "source": [
        "kf = KFold(n_splits=10, shuffle=True, random_state=11)\n"
      ],
      "metadata": {
        "id": "JwsKSqTZPpo0"
      },
      "execution_count": 3,
      "outputs": []
    },
    {
      "cell_type": "code",
      "source": [
        "knn = KNeighborsClassifier()\n",
        "scores = cross_val_score(estimator=knn, X=X, y=y, cv=kf)\n",
        "\n",
        "clf = DecisionTreeClassifier(random_state=42)\n",
        "k_folds = KFold(n_splits = 10)\n",
        "scores_1 = cross_val_score(clf, X, y, cv = k_folds)\n"
      ],
      "metadata": {
        "id": "6Aup4YpMPzWN"
      },
      "execution_count": 4,
      "outputs": []
    },
    {
      "cell_type": "code",
      "source": [
        "print(\"Cross Validation Scores: \", scores_1)\n",
        "print(\"Average CV Score: \", scores_1.mean())\n",
        "print(\"Number of CV Scores used in Average: \", len(scores_1))"
      ],
      "metadata": {
        "colab": {
          "base_uri": "https://localhost:8080/"
        },
        "id": "e_oa59tBQCKD",
        "outputId": "49769a44-7cef-4a3e-8035-a83bd914e3e2"
      },
      "execution_count": 7,
      "outputs": [
        {
          "output_type": "stream",
          "name": "stdout",
          "text": [
            "Cross Validation Scores:  [0.877      0.86685714 0.863      0.87242857 0.86542857 0.86228571\n",
            " 0.87185714 0.87585714 0.87342857 0.89085714]\n",
            "Average CV Score:  0.8718999999999999\n",
            "Number of CV Scores used in Average:  10\n"
          ]
        }
      ]
    },
    {
      "cell_type": "code",
      "source": [
        "average_accuracy = scores.mean()\n",
        "for i, score in enumerate(scores, 1):\n",
        "    print(f'Fold {i}: {score:.4f}')"
      ],
      "metadata": {
        "colab": {
          "base_uri": "https://localhost:8080/"
        },
        "id": "xkkn8tKqQG-3",
        "outputId": "75aed58f-49bc-45ec-dc33-8c7967650f98"
      },
      "execution_count": 10,
      "outputs": [
        {
          "output_type": "stream",
          "name": "stdout",
          "text": [
            "Fold 1: 0.9717\n",
            "Fold 2: 0.9726\n",
            "Fold 3: 0.9706\n",
            "Fold 4: 0.9719\n",
            "Fold 5: 0.9707\n",
            "Fold 6: 0.9719\n",
            "Fold 7: 0.9760\n",
            "Fold 8: 0.9731\n",
            "Fold 9: 0.9716\n",
            "Fold 10: 0.9756\n"
          ]
        }
      ]
    },
    {
      "cell_type": "code",
      "source": [
        "print(f'Average K-Fold Accuracy: {average_accuracy:.4f}')"
      ],
      "metadata": {
        "colab": {
          "base_uri": "https://localhost:8080/"
        },
        "id": "XK2QL-RNQQ67",
        "outputId": "164bfa01-db04-4b9f-ae1c-b4950e8bff64"
      },
      "execution_count": 11,
      "outputs": [
        {
          "output_type": "stream",
          "name": "stdout",
          "text": [
            "Average K-Fold Accuracy: 0.9726\n"
          ]
        }
      ]
    },
    {
      "cell_type": "code",
      "source": [
        "plt.figure(figsize=(10, 6))\n",
        "plt.bar(range(1, len(scores) + 1), scores)\n",
        "plt.xlabel('Fold')\n",
        "plt.ylabel('Accuracy')\n",
        "plt.title('K-Fold Accuracy for Each Fold')\n",
        "plt.ylim([0, 1])\n",
        "plt.show()\n",
        ""
      ],
      "metadata": {
        "colab": {
          "base_uri": "https://localhost:8080/",
          "height": 564
        },
        "id": "G3aGNFbcQhEU",
        "outputId": "9de38f3d-c767-4c8f-d3e9-5b3c5d817a14"
      },
      "execution_count": 14,
      "outputs": [
        {
          "output_type": "display_data",
          "data": {
            "text/plain": [
              "<Figure size 1000x600 with 1 Axes>"
            ],
            "image/png": "[encoded data removed]"
          },
          "metadata": {}
        }
      ]
    }
  ]
}